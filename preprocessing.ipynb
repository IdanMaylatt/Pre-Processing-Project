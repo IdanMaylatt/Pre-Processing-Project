{
 "cells": [
  {
   "cell_type": "markdown",
   "metadata": {},
   "source": [
    "<center style='font-size:28px;'><u><b>Pre-Processing</b></u></center>"
   ]
  },
  {
   "cell_type": "markdown",
   "metadata": {},
   "source": [
    "1. [Project Description](#start)\n",
    "    * [Data Description](#dd)\n",
    "2. [EDA](#eda)\n",
    "    * [Reading File](#refa)\n",
    "    * [`days_employed`](#dysemp)\n",
    "        * [Affinity Between `days_employed` and `total_income`](#affdystt)\n",
    "    * [`education`](#education)\n",
    "    * [`gender`](#gender)\n",
    "    * [EDA Summation](#edasum)\n",
    "3. [Pre-Processing](#pppp)\n",
    "    * [`total_income` Missing Values](#toinmv)\n",
    "    * [Hiding `None`s](#hidn)\n",
    "    * [Casting](#cast)\n",
    "    * [Duplicates](#dup)\n",
    "    * [Categorisation](#catg)\n",
    "        * [`purpose`](#purp)\n",
    "        * [`children`](#child)\n",
    "        * [`total_income`](#totti)\n",
    "        * [Pre-Processing Summation](#ppppsum)\n",
    "4. [Analysis](#analys)\n",
    "    * [Is there a relation between having kids and repaying a loan on time?](#isarbhkaralot)\n",
    "    * [Is there a relation between marital status and repaying a loan on time?](#msaralot)\n",
    "    * [Is there a relation between income level and repaying a loan on time?](#bilaralot)\n",
    "    * [How do different loan purposes affect on-time repayment of the loan?](#paotrotl)\n",
    "5. [Conclusion](#conc)"
   ]
  },
  {
   "cell_type": "markdown",
   "metadata": {},
   "source": [
    "# Project Description <a id=\"start\"></a>"
   ]
  },
  {
   "cell_type": "markdown",
   "metadata": {},
   "source": [
    "- Prepare a report for a bank's loan division, using existing bank's data\n",
    "- Evaluate the ability of a potential borrower to repay their loan\n",
    "- Specifically, check whether borrower's marital status or number of children has an impact on defaulting a loan"
   ]
  },
  {
   "cell_type": "markdown",
   "metadata": {},
   "source": [
    "## Description of The Data <a id=\"dd\"></a>"
   ]
  },
  {
   "cell_type": "markdown",
   "metadata": {},
   "source": [
    "- `children` - the number of children in the family\n",
    "- `days_employed` - how long the customer has been working\n",
    "- `dob_years`- the customer’s age\n",
    "- `education` - the customer’s education level\n",
    "- `education_id` - identifier for the customer’s education\n",
    "- `family_status` - the customer’s marital status\n",
    "- `family_status_id` - identifier for the customer’s marital status\n",
    "- `gender` - the customer’s gender\n",
    "- `income_type` - the customer’s income type\n",
    "- `debt` - whether the customer has ever defaulted on a loan\n",
    "- `total_income` - monthly income\n",
    "- `purpose` - reason for taking out a loan"
   ]
  },
  {
   "cell_type": "code",
   "execution_count": 1,
   "metadata": {},
   "outputs": [],
   "source": [
    "import pandas as pd"
   ]
  },
  {
   "cell_type": "markdown",
   "metadata": {},
   "source": [
    "# EDA <a id=\"eda\"></a>"
   ]
  },
  {
   "cell_type": "markdown",
   "metadata": {},
   "source": [
    "## Reading File <a id=\"refa\"></a>"
   ]
  },
  {
   "cell_type": "code",
   "execution_count": 48,
   "metadata": {
    "scrolled": true
   },
   "outputs": [],
   "source": [
    "try:\n",
    "    df = pd.read_csv('https://code.s3.yandex.net/datasets/credit_scoring_eng.csv')\n",
    "except:\n",
    "    df = pd.read_csv('/datasets/credit_scoring_eng.csv')"
   ]
  },
  {
   "cell_type": "code",
   "execution_count": 49,
   "metadata": {},
   "outputs": [
    {
     "name": "stdout",
     "output_type": "stream",
     "text": [
      "<class 'pandas.core.frame.DataFrame'>\n",
      "RangeIndex: 21525 entries, 0 to 21524\n",
      "Data columns (total 12 columns):\n",
      " #   Column            Non-Null Count  Dtype  \n",
      "---  ------            --------------  -----  \n",
      " 0   children          21525 non-null  int64  \n",
      " 1   days_employed     19351 non-null  float64\n",
      " 2   dob_years         21525 non-null  int64  \n",
      " 3   education         21525 non-null  object \n",
      " 4   education_id      21525 non-null  int64  \n",
      " 5   family_status     21525 non-null  object \n",
      " 6   family_status_id  21525 non-null  int64  \n",
      " 7   gender            21525 non-null  object \n",
      " 8   income_type       21525 non-null  object \n",
      " 9   debt              21525 non-null  int64  \n",
      " 10  total_income      19351 non-null  float64\n",
      " 11  purpose           21525 non-null  object \n",
      "dtypes: float64(2), int64(5), object(5)\n",
      "memory usage: 2.0+ MB\n"
     ]
    }
   ],
   "source": [
    "df.info()"
   ]
  },
  {
   "cell_type": "markdown",
   "metadata": {},
   "source": [
    "Only 2 columns have missing values - `days_employed` and `total_income`. They both have the same number of them, possibly for the same records."
   ]
  },
  {
   "cell_type": "code",
   "execution_count": 50,
   "metadata": {},
   "outputs": [
    {
     "data": {
      "text/html": [
       "<div>\n",
       "<style scoped>\n",
       "    .dataframe tbody tr th:only-of-type {\n",
       "        vertical-align: middle;\n",
       "    }\n",
       "\n",
       "    .dataframe tbody tr th {\n",
       "        vertical-align: top;\n",
       "    }\n",
       "\n",
       "    .dataframe thead th {\n",
       "        text-align: right;\n",
       "    }\n",
       "</style>\n",
       "<table border=\"1\" class=\"dataframe\">\n",
       "  <thead>\n",
       "    <tr style=\"text-align: right;\">\n",
       "      <th></th>\n",
       "      <th>children</th>\n",
       "      <th>days_employed</th>\n",
       "      <th>dob_years</th>\n",
       "      <th>education</th>\n",
       "      <th>education_id</th>\n",
       "      <th>family_status</th>\n",
       "      <th>family_status_id</th>\n",
       "      <th>gender</th>\n",
       "      <th>income_type</th>\n",
       "      <th>debt</th>\n",
       "      <th>total_income</th>\n",
       "      <th>purpose</th>\n",
       "    </tr>\n",
       "  </thead>\n",
       "  <tbody>\n",
       "    <tr>\n",
       "      <th>0</th>\n",
       "      <td>1</td>\n",
       "      <td>-8437.673028</td>\n",
       "      <td>42</td>\n",
       "      <td>bachelor's degree</td>\n",
       "      <td>0</td>\n",
       "      <td>married</td>\n",
       "      <td>0</td>\n",
       "      <td>F</td>\n",
       "      <td>employee</td>\n",
       "      <td>0</td>\n",
       "      <td>40620.102</td>\n",
       "      <td>purchase of the house</td>\n",
       "    </tr>\n",
       "    <tr>\n",
       "      <th>1</th>\n",
       "      <td>1</td>\n",
       "      <td>-4024.803754</td>\n",
       "      <td>36</td>\n",
       "      <td>secondary education</td>\n",
       "      <td>1</td>\n",
       "      <td>married</td>\n",
       "      <td>0</td>\n",
       "      <td>F</td>\n",
       "      <td>employee</td>\n",
       "      <td>0</td>\n",
       "      <td>17932.802</td>\n",
       "      <td>car purchase</td>\n",
       "    </tr>\n",
       "    <tr>\n",
       "      <th>2</th>\n",
       "      <td>0</td>\n",
       "      <td>-5623.422610</td>\n",
       "      <td>33</td>\n",
       "      <td>Secondary Education</td>\n",
       "      <td>1</td>\n",
       "      <td>married</td>\n",
       "      <td>0</td>\n",
       "      <td>M</td>\n",
       "      <td>employee</td>\n",
       "      <td>0</td>\n",
       "      <td>23341.752</td>\n",
       "      <td>purchase of the house</td>\n",
       "    </tr>\n",
       "    <tr>\n",
       "      <th>3</th>\n",
       "      <td>3</td>\n",
       "      <td>-4124.747207</td>\n",
       "      <td>32</td>\n",
       "      <td>secondary education</td>\n",
       "      <td>1</td>\n",
       "      <td>married</td>\n",
       "      <td>0</td>\n",
       "      <td>M</td>\n",
       "      <td>employee</td>\n",
       "      <td>0</td>\n",
       "      <td>42820.568</td>\n",
       "      <td>supplementary education</td>\n",
       "    </tr>\n",
       "    <tr>\n",
       "      <th>4</th>\n",
       "      <td>0</td>\n",
       "      <td>340266.072047</td>\n",
       "      <td>53</td>\n",
       "      <td>secondary education</td>\n",
       "      <td>1</td>\n",
       "      <td>civil partnership</td>\n",
       "      <td>1</td>\n",
       "      <td>F</td>\n",
       "      <td>retiree</td>\n",
       "      <td>0</td>\n",
       "      <td>25378.572</td>\n",
       "      <td>to have a wedding</td>\n",
       "    </tr>\n",
       "  </tbody>\n",
       "</table>\n",
       "</div>"
      ],
      "text/plain": [
       "   children  days_employed  dob_years            education  education_id  \\\n",
       "0         1   -8437.673028         42    bachelor's degree             0   \n",
       "1         1   -4024.803754         36  secondary education             1   \n",
       "2         0   -5623.422610         33  Secondary Education             1   \n",
       "3         3   -4124.747207         32  secondary education             1   \n",
       "4         0  340266.072047         53  secondary education             1   \n",
       "\n",
       "       family_status  family_status_id gender income_type  debt  total_income  \\\n",
       "0            married                 0      F    employee     0     40620.102   \n",
       "1            married                 0      F    employee     0     17932.802   \n",
       "2            married                 0      M    employee     0     23341.752   \n",
       "3            married                 0      M    employee     0     42820.568   \n",
       "4  civil partnership                 1      F     retiree     0     25378.572   \n",
       "\n",
       "                   purpose  \n",
       "0    purchase of the house  \n",
       "1             car purchase  \n",
       "2    purchase of the house  \n",
       "3  supplementary education  \n",
       "4        to have a wedding  "
      ]
     },
     "execution_count": 50,
     "metadata": {},
     "output_type": "execute_result"
    }
   ],
   "source": [
    "df.head()"
   ]
  },
  {
   "cell_type": "markdown",
   "metadata": {},
   "source": [
    "It's weird `days_employed` has non-int values. It's possible the loner total hours are divided by a standard 8 hour working day, so fractures are created. But thats a vague theory.."
   ]
  },
  {
   "cell_type": "markdown",
   "metadata": {},
   "source": [
    "## `days_employed` <a id=\"dysemp\"></a>"
   ]
  },
  {
   "cell_type": "markdown",
   "metadata": {},
   "source": [
    "Min/max and mean/median values for `days_employed` are to be extracted -"
   ]
  },
  {
   "cell_type": "code",
   "execution_count": 41,
   "metadata": {},
   "outputs": [
    {
     "data": {
      "text/plain": [
       "(-18388.949900568383, 401755.40047533)"
      ]
     },
     "execution_count": 41,
     "metadata": {},
     "output_type": "execute_result"
    }
   ],
   "source": [
    "max_days_employed = df.loc[df['days_employed'].idxmax()]['days_employed']\n",
    "min_days_employed = df.loc[df['days_employed'].idxmin()]['days_employed']\n",
    "span_days_employed = min_days_employed,max_days_employed                           \n",
    "span_days_employed"
   ]
  },
  {
   "cell_type": "markdown",
   "metadata": {},
   "source": [
    "There's a big span of values. Some are negative."
   ]
  },
  {
   "cell_type": "code",
   "execution_count": 42,
   "metadata": {},
   "outputs": [
    {
     "data": {
      "text/plain": [
       "'73.9% of days_employed values are negative'"
      ]
     },
     "execution_count": 42,
     "metadata": {},
     "output_type": "execute_result"
    }
   ],
   "source": [
    "negative_employ_ratio = df.loc[df['days_employed'] < 0]['days_employed'].count()/len(df)\n",
    "f'{negative_employ_ratio:.1%} of days_employed values are negative'"
   ]
  },
  {
   "cell_type": "markdown",
   "metadata": {},
   "source": [
    "The data seems weird. To account for falsely introducing the minus sign, absolute value of the column is calculated and the span is recalculated."
   ]
  },
  {
   "cell_type": "code",
   "execution_count": 43,
   "metadata": {},
   "outputs": [
    {
     "data": {
      "text/plain": [
       "'updated extreme days_employed values: (24.14163324048118, 401755.40047533)'"
      ]
     },
     "execution_count": 43,
     "metadata": {},
     "output_type": "execute_result"
    }
   ],
   "source": [
    "df['days_employed'] = df['days_employed'].abs()\n",
    "max_days_employed_abs = df.loc[df['days_employed'].idxmax()]['days_employed']\n",
    "min_days_employed_abs = df.loc[df['days_employed'].idxmin()]['days_employed']\n",
    "span_days_employed_updated = min_days_employed_abs,max_days_employed_abs\n",
    "f'updated extreme days_employed values: {span_days_employed_updated}'"
   ]
  },
  {
   "cell_type": "code",
   "execution_count": 44,
   "metadata": {},
   "outputs": [
    {
     "data": {
      "text/plain": [
       "'ratio of days_employed extreme values: 16641.59986498587'"
      ]
     },
     "execution_count": 44,
     "metadata": {},
     "output_type": "execute_result"
    }
   ],
   "source": [
    "days_employed_abs_ratio = max_days_employed_abs / min_days_employed_abs\n",
    "f'ratio of days_employed extreme values: {days_employed_abs_ratio}'"
   ]
  },
  {
   "cell_type": "markdown",
   "metadata": {},
   "source": [
    "The span and ratio are so big, so this column is probably of better use when ignored: Its not a problem of measuring seconds/hours/years instead of days, as the latter ratio suggests."
   ]
  },
  {
   "cell_type": "markdown",
   "metadata": {},
   "source": [
    "Besides, it seems a lot of the values contain a lot of digits after the decimal dot, and thats another reason to doubt the data. In the context of `days_employed`, no property connected with so many digits after the decimal dot is in sight."
   ]
  },
  {
   "cell_type": "code",
   "execution_count": 45,
   "metadata": {},
   "outputs": [],
   "source": [
    "mean_days, median_days, std_days = df['days_employed'].describe()[['mean','50%','std']]"
   ]
  },
  {
   "cell_type": "code",
   "execution_count": 46,
   "metadata": {},
   "outputs": [
    {
     "data": {
      "text/plain": [
       "66914.72890682195"
      ]
     },
     "metadata": {},
     "output_type": "display_data"
    },
    {
     "data": {
      "text/plain": [
       "2194.220566878695"
      ]
     },
     "metadata": {},
     "output_type": "display_data"
    },
    {
     "data": {
      "text/plain": [
       "139030.8805274945"
      ]
     },
     "metadata": {},
     "output_type": "display_data"
    }
   ],
   "source": [
    "display(mean_days, median_days, std_days)"
   ]
  },
  {
   "cell_type": "markdown",
   "metadata": {},
   "source": [
    "The mean is much greater than the median, which suggests a relatively small amount of values pushes the mean upwards.\n",
    "If theres a lot of them close to the max value, and the next big clusters will be around the median, it will make for a reason to delete this cluster of big values next to the max value and keep the column after all."
   ]
  },
  {
   "cell_type": "code",
   "execution_count": 47,
   "metadata": {},
   "outputs": [
    {
     "name": "stdout",
     "output_type": "stream",
     "text": [
      "0.1473170731707317\n",
      "0.7516840882694541\n",
      "0.10099883855981417\n"
     ]
    }
   ],
   "source": [
    "print(df.loc[df['days_employed'] > 5*mean_days]['days_employed'].count()/len(df))\n",
    "print(df.loc[df['days_employed'] < 5*mean_days]['days_employed'].count()/len(df))\n",
    "print(df['days_employed'].isna().sum()/len(df))"
   ]
  },
  {
   "cell_type": "markdown",
   "metadata": {},
   "source": [
    "15% of the values are greater than 5 times the mean. The max_value is 6 * `mean_days` so no small cluster of points can be deleted in order to save the column."
   ]
  },
  {
   "cell_type": "markdown",
   "metadata": {},
   "source": [
    "### Affinity Between `days_employed` and `total_income` <a id=\"affdystt\"></a>"
   ]
  },
  {
   "cell_type": "markdown",
   "metadata": {},
   "source": [
    "Before deleting `days_employed`, a connection between its missing values to those of `total_income` is to be discovered. After all, they have the same number of missing values:"
   ]
  },
  {
   "cell_type": "code",
   "execution_count": 12,
   "metadata": {},
   "outputs": [
    {
     "name": "stdout",
     "output_type": "stream",
     "text": [
      "2174\n"
     ]
    }
   ],
   "source": [
    "print(df.loc[df['total_income'].isna()]['days_employed'].isna().sum())"
   ]
  },
  {
   "cell_type": "markdown",
   "metadata": {},
   "source": [
    "There's an exact correlation between having missing `total_income` value to having missing `days_employed` value (21525 - 19351 = 2174). Presumably, the missing values at those rows originate from the loan seeker lack of job. Maybe theyr'e kids that\n",
    "hadn't start working yet, but somehow have a bank account and they want a loan for a summer trip. Or maybe its people who are currently unemployed, so they write their previous `income_type` but leave the rest blank. As for businesses and civil servants - its strange their `total_income` is blank. They might be ashamed about those details and prefer not to disclose them if not necessary"
   ]
  },
  {
   "cell_type": "markdown",
   "metadata": {},
   "source": [
    "In conclusion, `days employed` column is to be dropped."
   ]
  },
  {
   "cell_type": "code",
   "execution_count": 13,
   "metadata": {},
   "outputs": [],
   "source": [
    "df.drop('days_employed', axis=1, inplace=True)"
   ]
  },
  {
   "cell_type": "markdown",
   "metadata": {},
   "source": [
    "## `education` <a id=\"education\"></a>"
   ]
  },
  {
   "cell_type": "markdown",
   "metadata": {},
   "source": [
    "See first the variety of education's subcategories:"
   ]
  },
  {
   "cell_type": "code",
   "execution_count": 14,
   "metadata": {
    "scrolled": false
   },
   "outputs": [
    {
     "name": "stdout",
     "output_type": "stream",
     "text": [
      "[\"bachelor's degree\" 'secondary education' 'Secondary Education'\n",
      " 'SECONDARY EDUCATION' \"BACHELOR'S DEGREE\" 'some college'\n",
      " 'primary education' \"Bachelor's Degree\" 'SOME COLLEGE' 'Some College'\n",
      " 'PRIMARY EDUCATION' 'Primary Education' 'Graduate Degree'\n",
      " 'GRADUATE DEGREE' 'graduate degree']\n"
     ]
    }
   ],
   "source": [
    "print(df['education'].unique())"
   ]
  },
  {
   "cell_type": "markdown",
   "metadata": {},
   "source": [
    "Conforming to lowercase and changing 'some college' to 'college' -"
   ]
  },
  {
   "cell_type": "code",
   "execution_count": 15,
   "metadata": {
    "scrolled": true
   },
   "outputs": [
    {
     "data": {
      "text/plain": [
       "secondary education    15233\n",
       "bachelor's degree       5260\n",
       "college                  744\n",
       "primary education        282\n",
       "graduate degree            6\n",
       "Name: education, dtype: int64"
      ]
     },
     "execution_count": 15,
     "metadata": {},
     "output_type": "execute_result"
    }
   ],
   "source": [
    "df['education'] = df['education'].str.lower()\n",
    "df['education'] = df['education'].replace('some college', 'college')\n",
    "df.education.value_counts()"
   ]
  },
  {
   "cell_type": "markdown",
   "metadata": {},
   "source": [
    "## `gender` <a id=\"gender\"></a>"
   ]
  },
  {
   "cell_type": "code",
   "execution_count": 16,
   "metadata": {},
   "outputs": [
    {
     "name": "stdout",
     "output_type": "stream",
     "text": [
      "F      14236\n",
      "M       7288\n",
      "XNA        1\n",
      "Name: gender, dtype: int64\n"
     ]
    }
   ],
   "source": [
    "print(df.gender.value_counts())"
   ]
  },
  {
   "cell_type": "markdown",
   "metadata": {},
   "source": [
    "Theres one weird instance of a third gender -"
   ]
  },
  {
   "cell_type": "code",
   "execution_count": 17,
   "metadata": {
    "scrolled": true
   },
   "outputs": [
    {
     "data": {
      "text/html": [
       "<div>\n",
       "<style scoped>\n",
       "    .dataframe tbody tr th:only-of-type {\n",
       "        vertical-align: middle;\n",
       "    }\n",
       "\n",
       "    .dataframe tbody tr th {\n",
       "        vertical-align: top;\n",
       "    }\n",
       "\n",
       "    .dataframe thead th {\n",
       "        text-align: right;\n",
       "    }\n",
       "</style>\n",
       "<table border=\"1\" class=\"dataframe\">\n",
       "  <thead>\n",
       "    <tr style=\"text-align: right;\">\n",
       "      <th></th>\n",
       "      <th>children</th>\n",
       "      <th>dob_years</th>\n",
       "      <th>education</th>\n",
       "      <th>education_id</th>\n",
       "      <th>family_status</th>\n",
       "      <th>family_status_id</th>\n",
       "      <th>gender</th>\n",
       "      <th>income_type</th>\n",
       "      <th>debt</th>\n",
       "      <th>total_income</th>\n",
       "      <th>purpose</th>\n",
       "    </tr>\n",
       "  </thead>\n",
       "  <tbody>\n",
       "    <tr>\n",
       "      <th>10701</th>\n",
       "      <td>0</td>\n",
       "      <td>24</td>\n",
       "      <td>college</td>\n",
       "      <td>2</td>\n",
       "      <td>civil partnership</td>\n",
       "      <td>1</td>\n",
       "      <td>XNA</td>\n",
       "      <td>business</td>\n",
       "      <td>0</td>\n",
       "      <td>32624.825</td>\n",
       "      <td>buy real estate</td>\n",
       "    </tr>\n",
       "  </tbody>\n",
       "</table>\n",
       "</div>"
      ],
      "text/plain": [
       "       children  dob_years education  education_id      family_status  \\\n",
       "10701         0         24   college             2  civil partnership   \n",
       "\n",
       "       family_status_id gender income_type  debt  total_income  \\\n",
       "10701                 1    XNA    business     0     32624.825   \n",
       "\n",
       "               purpose  \n",
       "10701  buy real estate  "
      ]
     },
     "metadata": {},
     "output_type": "display_data"
    }
   ],
   "source": [
    "display(df.loc[df['gender'] == 'XNA'])"
   ]
  },
  {
   "cell_type": "markdown",
   "metadata": {},
   "source": [
    "Besides `gender`, the row seems legit. But being a tiny fraction of the data, this row is better ignored."
   ]
  },
  {
   "cell_type": "code",
   "execution_count": 18,
   "metadata": {},
   "outputs": [],
   "source": [
    "df.drop(df.index[10701], inplace=True)"
   ]
  },
  {
   "cell_type": "markdown",
   "metadata": {},
   "source": [
    "## EDA Summation <a id=\"edasum\"></a>"
   ]
  },
  {
   "cell_type": "markdown",
   "metadata": {},
   "source": [
    "- `days_employed` column was dropped due to unreasonable data\n",
    "- In addition, 1 row was dropped due to suspicious data (genter of type XNA)"
   ]
  },
  {
   "cell_type": "markdown",
   "metadata": {},
   "source": [
    "# Pre-Processing <a id=\"pppp\"></a>"
   ]
  },
  {
   "cell_type": "markdown",
   "metadata": {},
   "source": [
    "## `total_income` Missing Values <a id=\"toinmv\"></a>"
   ]
  },
  {
   "cell_type": "markdown",
   "metadata": {},
   "source": [
    "They came together with missing `days_employed` values so the leading theory is that its mostly people who are currently unemployed. Therefore, at present, they don't have any income at all. However, they each have affinity to their earlier profession - next job they'll have will probably be in the same field.\n",
    "So there's some sense in filling missing values with the medians for the appropriate `income_type`."
   ]
  },
  {
   "cell_type": "code",
   "execution_count": 19,
   "metadata": {},
   "outputs": [],
   "source": [
    "df['total_income'] = df.groupby('income_type')['total_income'].transform(lambda x: x.fillna(x.median()))"
   ]
  },
  {
   "cell_type": "code",
   "execution_count": 20,
   "metadata": {
    "scrolled": false
   },
   "outputs": [
    {
     "name": "stdout",
     "output_type": "stream",
     "text": [
      "0\n"
     ]
    }
   ],
   "source": [
    "print(df.loc[df['total_income'].isna()]['income_type'].count())"
   ]
  },
  {
   "cell_type": "markdown",
   "metadata": {},
   "source": [
    "## Hiding `None`s <a id=\"hidn\"></a>"
   ]
  },
  {
   "cell_type": "markdown",
   "metadata": {},
   "source": [
    "Data might contain hiding 'None's:"
   ]
  },
  {
   "cell_type": "code",
   "execution_count": 21,
   "metadata": {},
   "outputs": [
    {
     "data": {
      "text/plain": [
       "[0, 0, 0, 0, 0, 0, 0, 0, 0, 0, 0]"
      ]
     },
     "execution_count": 21,
     "metadata": {},
     "output_type": "execute_result"
    }
   ],
   "source": [
    "columns = df.columns\n",
    "lst = []\n",
    "for column in columns:\n",
    "    tmp = df.loc[df[column] == 'None',column].count()\n",
    "    lst.append(tmp)\n",
    "lst"
   ]
  },
  {
   "cell_type": "markdown",
   "metadata": {},
   "source": [
    "No 'None' hiding in the data"
   ]
  },
  {
   "cell_type": "markdown",
   "metadata": {},
   "source": [
    "## Casting <a id=\"cast\"></a>"
   ]
  },
  {
   "cell_type": "markdown",
   "metadata": {},
   "source": [
    "There is no need for a float precision in `total_income`."
   ]
  },
  {
   "cell_type": "code",
   "execution_count": 22,
   "metadata": {},
   "outputs": [
    {
     "name": "stdout",
     "output_type": "stream",
     "text": [
      "<class 'pandas.core.frame.DataFrame'>\n",
      "Int64Index: 21524 entries, 0 to 21524\n",
      "Data columns (total 11 columns):\n",
      " #   Column            Non-Null Count  Dtype \n",
      "---  ------            --------------  ----- \n",
      " 0   children          21524 non-null  int64 \n",
      " 1   dob_years         21524 non-null  int64 \n",
      " 2   education         21524 non-null  object\n",
      " 3   education_id      21524 non-null  int64 \n",
      " 4   family_status     21524 non-null  object\n",
      " 5   family_status_id  21524 non-null  int64 \n",
      " 6   gender            21524 non-null  object\n",
      " 7   income_type       21524 non-null  object\n",
      " 8   debt              21524 non-null  int64 \n",
      " 9   total_income      21524 non-null  int64 \n",
      " 10  purpose           21524 non-null  object\n",
      "dtypes: int64(6), object(5)\n",
      "memory usage: 2.0+ MB\n"
     ]
    }
   ],
   "source": [
    "df.loc[:,'total_income'] = df.loc[:,'total_income'].astype('int64')\n",
    "df.info()"
   ]
  },
  {
   "cell_type": "markdown",
   "metadata": {},
   "source": [
    "## Duplicates <a id=\"dup\"></a>"
   ]
  },
  {
   "cell_type": "code",
   "execution_count": 23,
   "metadata": {
    "scrolled": true
   },
   "outputs": [
    {
     "data": {
      "text/plain": [
       "71"
      ]
     },
     "execution_count": 23,
     "metadata": {},
     "output_type": "execute_result"
    }
   ],
   "source": [
    "df.duplicated().sum()"
   ]
  },
  {
   "cell_type": "markdown",
   "metadata": {},
   "source": [
    "71 duplicates"
   ]
  },
  {
   "cell_type": "code",
   "execution_count": 24,
   "metadata": {
    "scrolled": true
   },
   "outputs": [
    {
     "name": "stdout",
     "output_type": "stream",
     "text": [
      "<class 'pandas.core.frame.DataFrame'>\n",
      "RangeIndex: 21453 entries, 0 to 21452\n",
      "Data columns (total 11 columns):\n",
      " #   Column            Non-Null Count  Dtype \n",
      "---  ------            --------------  ----- \n",
      " 0   children          21453 non-null  int64 \n",
      " 1   dob_years         21453 non-null  int64 \n",
      " 2   education         21453 non-null  object\n",
      " 3   education_id      21453 non-null  int64 \n",
      " 4   family_status     21453 non-null  object\n",
      " 5   family_status_id  21453 non-null  int64 \n",
      " 6   gender            21453 non-null  object\n",
      " 7   income_type       21453 non-null  object\n",
      " 8   debt              21453 non-null  int64 \n",
      " 9   total_income      21453 non-null  int64 \n",
      " 10  purpose           21453 non-null  object\n",
      "dtypes: int64(6), object(5)\n",
      "memory usage: 1.8+ MB\n"
     ]
    }
   ],
   "source": [
    "df = df.drop_duplicates().reset_index(drop=True)\n",
    "df.info()"
   ]
  },
  {
   "cell_type": "markdown",
   "metadata": {},
   "source": [
    "21524 - 21453 = 71.\n",
    "\n",
    "The duplicated data might have been present due to users applying twice.\n",
    "71 duplicates in our data is one duplicate for every 300 applies for loan</center></font>"
   ]
  },
  {
   "cell_type": "markdown",
   "metadata": {},
   "source": [
    "## Categorisation <a id=\"catg\"></a>"
   ]
  },
  {
   "cell_type": "markdown",
   "metadata": {},
   "source": [
    "### `purpose` <a id=\"purp\"></a>"
   ]
  },
  {
   "cell_type": "code",
   "execution_count": 25,
   "metadata": {
    "scrolled": true
   },
   "outputs": [
    {
     "name": "stdout",
     "output_type": "stream",
     "text": [
      "Series([], Name: purpose, dtype: int64)\n"
     ]
    }
   ],
   "source": [
    "def purpose_group(purpose):\n",
    "    if 'real estate' in purpose or 'house' in purpose or 'housing' in purpose or 'property' in purpose:\n",
    "        return 'real estate'\n",
    "    if 'education' in purpose or 'university' in purpose or 'educated' in purpose:\n",
    "        return 'education'\n",
    "    if 'wedding' in purpose:\n",
    "        return 'wedding'\n",
    "    if 'car' in purpose:\n",
    "        return 'car'\n",
    "    else:\n",
    "        return 'unknown'\n",
    "    \n",
    "df['purpose_type'] = df['purpose'].apply(purpose_group)\n",
    "df['purpose_type'].value_counts()\n",
    "\n",
    "#A lot of 'unknown's. And their respective original purpose:\n",
    "\n",
    "print(df.loc[df['purpose_type'] == 'unknown']['purpose'].value_counts())\n",
    "\n",
    "#by tweeking the purpose_group function and rerunning the line above we categorise all the purposes until\n",
    "#nothing gets printed."
   ]
  },
  {
   "cell_type": "markdown",
   "metadata": {},
   "source": [
    "### `children` <a id=\"child\"></a>"
   ]
  },
  {
   "cell_type": "code",
   "execution_count": 26,
   "metadata": {},
   "outputs": [
    {
     "name": "stdout",
     "output_type": "stream",
     "text": [
      " 0     14090\n",
      " 1      4808\n",
      " 2      2052\n",
      " 3       330\n",
      " 20       76\n",
      "-1        47\n",
      " 4        41\n",
      " 5         9\n",
      "Name: children, dtype: int64\n"
     ]
    }
   ],
   "source": [
    "print(df.children.value_counts())"
   ]
  },
  {
   "cell_type": "markdown",
   "metadata": {},
   "source": [
    "2 strange values are present: 20 and -1.\n",
    "-1 might mean 1, Therefore it should be replaced by 1.\n",
    "\n",
    "Right after typing a number using the keyboard's right side, one might type the key below it. If 1 or 3 are typed, something strange (right arrow or .) might generate an error when submitting a loan request.\n",
    "But if 2 is typed, 20 will end up the number's sent, and the loan request form should be sent with no problem (20 could be valid).\n",
    "So 20 to be replaced by 2."
   ]
  },
  {
   "cell_type": "code",
   "execution_count": 27,
   "metadata": {},
   "outputs": [
    {
     "name": "stdout",
     "output_type": "stream",
     "text": [
      "0    14090\n",
      "1     4855\n",
      "2     2128\n",
      "3      330\n",
      "4       41\n",
      "5        9\n",
      "Name: children, dtype: int64\n"
     ]
    }
   ],
   "source": [
    "df['children'] = df['children'].replace({-1: 1, 20: 2})\n",
    "print(df.children.value_counts())"
   ]
  },
  {
   "cell_type": "markdown",
   "metadata": {},
   "source": [
    "### `total_income` <a id=\"totti\"></a>"
   ]
  },
  {
   "cell_type": "code",
   "execution_count": 28,
   "metadata": {},
   "outputs": [
    {
     "name": "stdout",
     "output_type": "stream",
     "text": [
      "362496 3306 26450.314920990073 22815.0\n"
     ]
    }
   ],
   "source": [
    "max_income = df.loc[df['total_income'].idxmax()]['total_income']\n",
    "min_income = df.loc[df['total_income'].idxmin()]['total_income']\n",
    "mean_income = df['total_income'].mean()\n",
    "median_income  = df.total_income.median()\n",
    "print(max_income,min_income,mean_income,median_income)"
   ]
  },
  {
   "cell_type": "markdown",
   "metadata": {},
   "source": [
    "From those values `total_income` is split into 4 categories: 2 for the half that earns below the median,\n",
    "and another 2 categories for the other half who earns more than the median:"
   ]
  },
  {
   "cell_type": "code",
   "execution_count": 29,
   "metadata": {},
   "outputs": [],
   "source": [
    "def income_categorizer(income):\n",
    "    if income < 11400:\n",
    "        return 1\n",
    "    if income < 22800:\n",
    "        return 2\n",
    "    if income < 200000:\n",
    "        return 3\n",
    "    else:\n",
    "        return 4\n",
    "df['total_income_id'] = df['total_income'].apply(income_categorizer)"
   ]
  },
  {
   "cell_type": "markdown",
   "metadata": {},
   "source": [
    "### Pre-Processing Summation <a id=\"ppppsum\"></a>"
   ]
  },
  {
   "cell_type": "markdown",
   "metadata": {},
   "source": [
    "- `total_income` missing values filled according to the borrower's `income_type`\n",
    "- Problematic values in the children column are now fixed (0.05% of total data)\n",
    "- `total_income` is categorised into 4 categories - 2 for under the median and 2 for above the median\n",
    "- `purpose` various values reduced down to 4, in the `purpose_type` column"
   ]
  },
  {
   "cell_type": "markdown",
   "metadata": {},
   "source": [
    "# Analysis <a id=\"analys\"></a>"
   ]
  },
  {
   "cell_type": "markdown",
   "metadata": {},
   "source": [
    "## Is there a relation between having kids and repaying a loan on time? <a id=\"isarbhkaralot\"></a>"
   ]
  },
  {
   "cell_type": "code",
   "execution_count": 30,
   "metadata": {},
   "outputs": [
    {
     "name": "stdout",
     "output_type": "stream",
     "text": [
      "          debt            ratio\n",
      "           sum  count          \n",
      "children                       \n",
      "4            4     41  0.097561\n",
      "2          202   2128  0.094925\n",
      "1          445   4855  0.091658\n",
      "3           27    330  0.081818\n",
      "0         1063  14090  0.075444\n",
      "5            0      9  0.000000\n"
     ]
    }
   ],
   "source": [
    "debt_by_child = df.groupby('children').agg({'debt': ['sum', 'count']})\n",
    "debt_by_child['ratio'] = debt_by_child['debt']['sum'] / debt_by_child['debt']['count']\n",
    "debt_by_child.sort_values(by='ratio', ascending=False, inplace=True)\n",
    "print(debt_by_child)"
   ]
  },
  {
   "cell_type": "markdown",
   "metadata": {},
   "source": [
    "People with 5 children rarely take a loan, and when they do - they don't default it.\n",
    "Maybe at their status some of their kids are old enough to help with the home chores more than \"normal\" kids,\n",
    "so they can work more.\n",
    "People with no children or 3 children have around 8% debt rate, and the others have roughly 20% chance more to get in debt.\n",
    "People with 4 children rarely take loans as well, tough in their case - 10% of borrowers default the loan."
   ]
  },
  {
   "cell_type": "markdown",
   "metadata": {},
   "source": [
    "## Is there a relation between marital status and repaying a loan on time? <a id=\"msaralot\"></a>"
   ]
  },
  {
   "cell_type": "code",
   "execution_count": 31,
   "metadata": {},
   "outputs": [
    {
     "name": "stdout",
     "output_type": "stream",
     "text": [
      "                  debt            ratio\n",
      "                   sum  count          \n",
      "family_status                          \n",
      "unmarried          274   2810  0.097509\n",
      "civil partnership  388   4150  0.093494\n",
      "married            931  12339  0.075452\n",
      "divorced            85   1195  0.071130\n",
      "widow / widower     63    959  0.065693\n"
     ]
    }
   ],
   "source": [
    "debt_by_family = df.groupby('family_status').agg({'debt': ['sum', 'count']})\n",
    "debt_by_family['ratio'] = debt_by_family['debt']['sum'] / debt_by_family['debt']['count']\n",
    "debt_by_family.sort_values(by='ratio', ascending=False, inplace=True)\n",
    "print(debt_by_family)"
   ]
  },
  {
   "cell_type": "markdown",
   "metadata": {},
   "source": [
    "Widowers are the least likely to get into debt, with 6.5% default rate. Unmarried and civil partnership have 150% greater chance to default.\n",
    "It might suggest age brings stability and low default rate"
   ]
  },
  {
   "cell_type": "markdown",
   "metadata": {},
   "source": [
    "## Is there a relation between income level and repaying a loan on time? <a id=\"bilaralot\"></a>"
   ]
  },
  {
   "cell_type": "code",
   "execution_count": 32,
   "metadata": {},
   "outputs": [
    {
     "name": "stdout",
     "output_type": "stream",
     "text": [
      "                debt            ratio\n",
      "                 sum  count          \n",
      "total_income_id                      \n",
      "4                  1     11  0.090909\n",
      "2                701   8187  0.085624\n",
      "3                930  11681  0.079616\n",
      "1                109   1574  0.069250\n"
     ]
    }
   ],
   "source": [
    "debt_by_income_id = df.groupby('total_income_id').agg({'debt': ['sum', 'count']})\n",
    "debt_by_income_id['ratio'] = debt_by_income_id['debt']['sum'] / debt_by_income_id['debt']['count']\n",
    "debt_by_income_id.sort_values(by='ratio', ascending=False, inplace=True)\n",
    "print(debt_by_income_id)"
   ]
  },
  {
   "cell_type": "markdown",
   "metadata": {},
   "source": [
    "Its pretty surprising that the people who earn the most actually have the highest debt rate. They might take much bigger lones than others, and therefore raise the chance of getting into debt. The lowest earning sector has the lowest debt rate, at 6.9%, 77% of highest earning sector default rate."
   ]
  },
  {
   "cell_type": "markdown",
   "metadata": {},
   "source": [
    "## How do different loan purposes affect on-time repayment of the loan? <a id=\"paotrotl\"></a>"
   ]
  },
  {
   "cell_type": "code",
   "execution_count": 33,
   "metadata": {},
   "outputs": [
    {
     "name": "stdout",
     "output_type": "stream",
     "text": [
      "             debt            ratio\n",
      "              sum  count          \n",
      "purpose_type                      \n",
      "car           403   4306  0.093590\n",
      "education     370   4013  0.092200\n",
      "wedding       186   2324  0.080034\n",
      "real estate   782  10810  0.072340\n"
     ]
    }
   ],
   "source": [
    "debt_by_purpose = df.groupby('purpose_type').agg({'debt':['sum', 'count']})\n",
    "debt_by_purpose['ratio'] = debt_by_purpose['debt']['sum'] / debt_by_purpose['debt']['count']\n",
    "debt_by_purpose.sort_values(by='ratio', ascending=False, inplace=True)\n",
    "print(debt_by_purpose)"
   ]
  },
  {
   "cell_type": "markdown",
   "metadata": {},
   "source": [
    "Real-estate with the best debt rate at 7.2%, followed by wedding (8%), education (9.2%) and car (9.3%)."
   ]
  },
  {
   "cell_type": "markdown",
   "metadata": {},
   "source": [
    "# Conclusion <a id=\"conc\"></a>"
   ]
  },
  {
   "cell_type": "markdown",
   "metadata": {},
   "source": [
    "The ideal borrower is a widow/er, with 5 kids or more, or 0 kids, that has a wage in the lowest quarter, and needs the lone for real estate related issues. He has around 2/3 chance to get in debt compared to the average loner"
   ]
  }
 ],
 "metadata": {
  "ExecuteTimeLog": [
   {
    "duration": 2396,
    "start_time": "2021-10-13T12:44:23.976Z"
   },
   {
    "duration": 560,
    "start_time": "2021-10-13T12:45:04.572Z"
   },
   {
    "duration": 573,
    "start_time": "2021-10-13T12:45:14.096Z"
   },
   {
    "duration": 79,
    "start_time": "2021-10-13T12:45:38.339Z"
   },
   {
    "duration": 794,
    "start_time": "2021-10-15T04:57:58.079Z"
   },
   {
    "duration": 283,
    "start_time": "2021-10-15T04:58:58.930Z"
   },
   {
    "duration": 6,
    "start_time": "2021-10-15T05:24:39.509Z"
   },
   {
    "duration": 85,
    "start_time": "2021-10-15T05:33:04.113Z"
   },
   {
    "duration": 173,
    "start_time": "2021-10-15T05:34:26.019Z"
   },
   {
    "duration": 5,
    "start_time": "2021-10-15T05:34:26.194Z"
   },
   {
    "duration": 7,
    "start_time": "2021-10-15T05:37:19.500Z"
   },
   {
    "duration": 80,
    "start_time": "2021-10-15T05:44:34.660Z"
   },
   {
    "duration": 7,
    "start_time": "2021-10-15T05:44:42.645Z"
   },
   {
    "duration": 8,
    "start_time": "2021-10-15T05:46:14.788Z"
   },
   {
    "duration": 8,
    "start_time": "2021-10-15T05:46:33.093Z"
   },
   {
    "duration": 7,
    "start_time": "2021-10-15T05:47:41.011Z"
   },
   {
    "duration": 4,
    "start_time": "2021-10-15T05:47:54.641Z"
   },
   {
    "duration": 5,
    "start_time": "2021-10-15T05:55:38.005Z"
   },
   {
    "duration": 10,
    "start_time": "2021-10-15T06:06:17.598Z"
   },
   {
    "duration": 6,
    "start_time": "2021-10-15T06:15:57.498Z"
   },
   {
    "duration": 7,
    "start_time": "2021-10-15T06:23:20.090Z"
   },
   {
    "duration": 6,
    "start_time": "2021-10-15T06:35:30.011Z"
   },
   {
    "duration": 7,
    "start_time": "2021-10-15T06:45:06.828Z"
   },
   {
    "duration": 6,
    "start_time": "2021-10-15T06:46:00.451Z"
   },
   {
    "duration": 93,
    "start_time": "2021-10-15T06:48:16.003Z"
   },
   {
    "duration": 85,
    "start_time": "2021-10-15T06:48:33.688Z"
   },
   {
    "duration": 94,
    "start_time": "2021-10-15T06:49:18.500Z"
   },
   {
    "duration": 136,
    "start_time": "2021-10-15T06:50:11.187Z"
   },
   {
    "duration": 83,
    "start_time": "2021-10-15T06:50:18.121Z"
   },
   {
    "duration": 17,
    "start_time": "2021-10-15T06:51:42.039Z"
   },
   {
    "duration": 16,
    "start_time": "2021-10-15T06:52:16.533Z"
   },
   {
    "duration": 328,
    "start_time": "2021-10-15T06:57:35.201Z"
   },
   {
    "duration": 7,
    "start_time": "2021-10-15T06:59:01.068Z"
   },
   {
    "duration": 5,
    "start_time": "2021-10-15T06:59:59.970Z"
   },
   {
    "duration": 2,
    "start_time": "2021-10-15T07:00:32.551Z"
   },
   {
    "duration": 6,
    "start_time": "2021-10-15T07:00:44.033Z"
   },
   {
    "duration": 6,
    "start_time": "2021-10-15T07:00:55.085Z"
   },
   {
    "duration": 86,
    "start_time": "2021-10-15T07:02:04.657Z"
   },
   {
    "duration": 7,
    "start_time": "2021-10-15T07:02:34.888Z"
   },
   {
    "duration": 83,
    "start_time": "2021-10-15T07:06:10.946Z"
   },
   {
    "duration": 249,
    "start_time": "2021-10-15T07:06:26.719Z"
   },
   {
    "duration": 5,
    "start_time": "2021-10-15T07:06:41.709Z"
   },
   {
    "duration": 13,
    "start_time": "2021-10-15T07:06:54.897Z"
   },
   {
    "duration": 3,
    "start_time": "2021-10-15T07:07:32.719Z"
   },
   {
    "duration": 4,
    "start_time": "2021-10-15T07:08:07.190Z"
   },
   {
    "duration": 127,
    "start_time": "2021-10-15T09:14:49.107Z"
   },
   {
    "duration": 6,
    "start_time": "2021-10-15T09:18:01.028Z"
   },
   {
    "duration": 5,
    "start_time": "2021-10-15T09:19:01.124Z"
   },
   {
    "duration": 18,
    "start_time": "2021-10-15T09:20:47.390Z"
   },
   {
    "duration": 24,
    "start_time": "2021-10-15T09:33:29.789Z"
   },
   {
    "duration": 24,
    "start_time": "2021-10-15T09:35:07.308Z"
   },
   {
    "duration": 3,
    "start_time": "2021-10-15T09:43:18.041Z"
   },
   {
    "duration": 6,
    "start_time": "2021-10-15T10:06:24.823Z"
   },
   {
    "duration": 13,
    "start_time": "2021-10-15T10:09:58.682Z"
   },
   {
    "duration": 8,
    "start_time": "2021-10-15T10:14:40.583Z"
   },
   {
    "duration": 8,
    "start_time": "2021-10-15T10:19:19.665Z"
   },
   {
    "duration": 8,
    "start_time": "2021-10-15T10:21:04.875Z"
   },
   {
    "duration": 8,
    "start_time": "2021-10-15T10:27:29.011Z"
   },
   {
    "duration": 205,
    "start_time": "2021-10-15T10:28:11.008Z"
   },
   {
    "duration": 6,
    "start_time": "2021-10-15T10:28:11.215Z"
   },
   {
    "duration": 30,
    "start_time": "2021-10-15T10:28:11.223Z"
   },
   {
    "duration": 8,
    "start_time": "2021-10-15T10:28:11.256Z"
   },
   {
    "duration": 7,
    "start_time": "2021-10-15T10:28:11.265Z"
   },
   {
    "duration": 17,
    "start_time": "2021-10-15T10:28:11.273Z"
   },
   {
    "duration": 21,
    "start_time": "2021-10-15T10:28:11.292Z"
   },
   {
    "duration": 10,
    "start_time": "2021-10-15T10:28:11.316Z"
   },
   {
    "duration": 12,
    "start_time": "2021-10-15T10:28:11.328Z"
   },
   {
    "duration": 30,
    "start_time": "2021-10-15T10:28:11.342Z"
   },
   {
    "duration": 11,
    "start_time": "2021-10-15T10:28:11.374Z"
   },
   {
    "duration": 18,
    "start_time": "2021-10-15T10:28:11.387Z"
   },
   {
    "duration": 21,
    "start_time": "2021-10-15T10:28:11.407Z"
   },
   {
    "duration": 13,
    "start_time": "2021-10-15T10:28:11.429Z"
   },
   {
    "duration": 27,
    "start_time": "2021-10-15T10:28:11.443Z"
   },
   {
    "duration": 8,
    "start_time": "2021-10-15T10:28:11.472Z"
   },
   {
    "duration": 21,
    "start_time": "2021-10-15T10:28:11.482Z"
   },
   {
    "duration": 25,
    "start_time": "2021-10-15T10:28:11.505Z"
   },
   {
    "duration": 32,
    "start_time": "2021-10-15T10:28:11.532Z"
   },
   {
    "duration": 5,
    "start_time": "2021-10-15T10:28:11.566Z"
   },
   {
    "duration": 19,
    "start_time": "2021-10-15T10:28:11.573Z"
   },
   {
    "duration": 8,
    "start_time": "2021-10-15T10:28:11.595Z"
   },
   {
    "duration": 21,
    "start_time": "2021-10-15T10:28:40.178Z"
   },
   {
    "duration": 19,
    "start_time": "2021-10-15T10:32:45.367Z"
   },
   {
    "duration": 6,
    "start_time": "2021-10-15T10:32:57.340Z"
   },
   {
    "duration": 145,
    "start_time": "2021-10-15T10:33:05.281Z"
   },
   {
    "duration": 7,
    "start_time": "2021-10-15T10:33:05.428Z"
   },
   {
    "duration": 9,
    "start_time": "2021-10-15T10:33:05.438Z"
   },
   {
    "duration": 21,
    "start_time": "2021-10-15T10:33:05.450Z"
   },
   {
    "duration": 4,
    "start_time": "2021-10-15T10:33:05.473Z"
   },
   {
    "duration": 7,
    "start_time": "2021-10-15T10:33:05.479Z"
   },
   {
    "duration": 13,
    "start_time": "2021-10-15T10:33:05.488Z"
   },
   {
    "duration": 6,
    "start_time": "2021-10-15T10:33:05.504Z"
   },
   {
    "duration": 9,
    "start_time": "2021-10-15T10:33:05.512Z"
   },
   {
    "duration": 55,
    "start_time": "2021-10-15T10:33:05.523Z"
   },
   {
    "duration": 9,
    "start_time": "2021-10-15T10:33:05.580Z"
   },
   {
    "duration": 13,
    "start_time": "2021-10-15T10:33:05.590Z"
   },
   {
    "duration": 7,
    "start_time": "2021-10-15T10:33:05.605Z"
   },
   {
    "duration": 12,
    "start_time": "2021-10-15T10:33:05.614Z"
   },
   {
    "duration": 36,
    "start_time": "2021-10-15T10:33:05.627Z"
   },
   {
    "duration": 19,
    "start_time": "2021-10-15T10:33:05.665Z"
   },
   {
    "duration": 15,
    "start_time": "2021-10-15T10:33:05.686Z"
   },
   {
    "duration": 22,
    "start_time": "2021-10-15T10:33:05.703Z"
   },
   {
    "duration": 45,
    "start_time": "2021-10-15T10:33:05.726Z"
   },
   {
    "duration": 5,
    "start_time": "2021-10-15T10:33:05.773Z"
   },
   {
    "duration": 7,
    "start_time": "2021-10-15T10:33:05.780Z"
   },
   {
    "duration": 7,
    "start_time": "2021-10-15T10:33:05.789Z"
   },
   {
    "duration": 253,
    "start_time": "2021-10-15T11:19:47.491Z"
   },
   {
    "duration": 8,
    "start_time": "2021-10-15T11:19:47.746Z"
   },
   {
    "duration": 8,
    "start_time": "2021-10-15T11:19:47.757Z"
   },
   {
    "duration": 7,
    "start_time": "2021-10-15T11:19:47.768Z"
   },
   {
    "duration": 4,
    "start_time": "2021-10-15T11:19:47.777Z"
   },
   {
    "duration": 7,
    "start_time": "2021-10-15T11:19:47.782Z"
   },
   {
    "duration": 9,
    "start_time": "2021-10-15T11:19:47.791Z"
   },
   {
    "duration": 5,
    "start_time": "2021-10-15T11:19:47.803Z"
   },
   {
    "duration": 11,
    "start_time": "2021-10-15T11:19:47.810Z"
   },
   {
    "duration": 60,
    "start_time": "2021-10-15T11:19:47.822Z"
   },
   {
    "duration": 8,
    "start_time": "2021-10-15T11:19:47.884Z"
   },
   {
    "duration": 11,
    "start_time": "2021-10-15T11:19:47.894Z"
   },
   {
    "duration": 9,
    "start_time": "2021-10-15T11:19:47.906Z"
   },
   {
    "duration": 9,
    "start_time": "2021-10-15T11:19:47.916Z"
   },
   {
    "duration": 37,
    "start_time": "2021-10-15T11:19:47.927Z"
   },
   {
    "duration": 19,
    "start_time": "2021-10-15T11:19:47.966Z"
   },
   {
    "duration": 15,
    "start_time": "2021-10-15T11:19:47.986Z"
   },
   {
    "duration": 25,
    "start_time": "2021-10-15T11:19:48.003Z"
   },
   {
    "duration": 48,
    "start_time": "2021-10-15T11:19:48.030Z"
   },
   {
    "duration": 6,
    "start_time": "2021-10-15T11:19:48.081Z"
   },
   {
    "duration": 10,
    "start_time": "2021-10-15T11:19:48.089Z"
   },
   {
    "duration": 7,
    "start_time": "2021-10-15T11:19:48.102Z"
   },
   {
    "duration": 111,
    "start_time": "2021-10-15T11:19:48.113Z"
   },
   {
    "duration": 261,
    "start_time": "2021-10-15T11:20:20.081Z"
   },
   {
    "duration": 19,
    "start_time": "2021-10-15T11:20:27.182Z"
   },
   {
    "duration": 18,
    "start_time": "2021-10-15T11:20:33.516Z"
   },
   {
    "duration": 160,
    "start_time": "2021-10-15T11:20:48.234Z"
   },
   {
    "duration": 6,
    "start_time": "2021-10-15T11:20:48.397Z"
   },
   {
    "duration": 9,
    "start_time": "2021-10-15T11:20:48.405Z"
   },
   {
    "duration": 6,
    "start_time": "2021-10-15T11:20:48.417Z"
   },
   {
    "duration": 4,
    "start_time": "2021-10-15T11:20:48.424Z"
   },
   {
    "duration": 35,
    "start_time": "2021-10-15T11:20:48.430Z"
   },
   {
    "duration": 9,
    "start_time": "2021-10-15T11:20:48.467Z"
   },
   {
    "duration": 6,
    "start_time": "2021-10-15T11:20:48.479Z"
   },
   {
    "duration": 6,
    "start_time": "2021-10-15T11:20:48.487Z"
   },
   {
    "duration": 24,
    "start_time": "2021-10-15T11:20:48.495Z"
   },
   {
    "duration": 6,
    "start_time": "2021-10-15T11:20:48.521Z"
   },
   {
    "duration": 40,
    "start_time": "2021-10-15T11:20:48.528Z"
   },
   {
    "duration": 3,
    "start_time": "2021-10-15T11:20:48.570Z"
   },
   {
    "duration": 7,
    "start_time": "2021-10-15T11:20:48.574Z"
   },
   {
    "duration": 22,
    "start_time": "2021-10-15T11:20:48.582Z"
   },
   {
    "duration": 28,
    "start_time": "2021-10-15T11:20:48.606Z"
   },
   {
    "duration": 29,
    "start_time": "2021-10-15T11:20:48.636Z"
   },
   {
    "duration": 26,
    "start_time": "2021-10-15T11:20:48.668Z"
   },
   {
    "duration": 23,
    "start_time": "2021-10-15T11:20:48.696Z"
   },
   {
    "duration": 5,
    "start_time": "2021-10-15T11:20:48.721Z"
   },
   {
    "duration": 37,
    "start_time": "2021-10-15T11:20:48.728Z"
   },
   {
    "duration": 8,
    "start_time": "2021-10-15T11:20:48.767Z"
   },
   {
    "duration": 82,
    "start_time": "2021-10-15T11:20:48.778Z"
   },
   {
    "duration": 161,
    "start_time": "2021-10-15T11:22:05.034Z"
   },
   {
    "duration": 7,
    "start_time": "2021-10-15T11:22:05.197Z"
   },
   {
    "duration": 9,
    "start_time": "2021-10-15T11:22:05.207Z"
   },
   {
    "duration": 7,
    "start_time": "2021-10-15T11:22:05.219Z"
   },
   {
    "duration": 3,
    "start_time": "2021-10-15T11:22:05.228Z"
   },
   {
    "duration": 30,
    "start_time": "2021-10-15T11:22:05.233Z"
   },
   {
    "duration": 12,
    "start_time": "2021-10-15T11:22:05.265Z"
   },
   {
    "duration": 5,
    "start_time": "2021-10-15T11:22:05.280Z"
   },
   {
    "duration": 10,
    "start_time": "2021-10-15T11:22:05.287Z"
   },
   {
    "duration": 35,
    "start_time": "2021-10-15T11:22:05.299Z"
   },
   {
    "duration": 28,
    "start_time": "2021-10-15T11:22:05.336Z"
   },
   {
    "duration": 8,
    "start_time": "2021-10-15T11:22:05.366Z"
   },
   {
    "duration": 9,
    "start_time": "2021-10-15T11:22:05.376Z"
   },
   {
    "duration": 12,
    "start_time": "2021-10-15T11:22:05.387Z"
   },
   {
    "duration": 21,
    "start_time": "2021-10-15T11:22:05.401Z"
   },
   {
    "duration": 41,
    "start_time": "2021-10-15T11:22:05.424Z"
   },
   {
    "duration": 15,
    "start_time": "2021-10-15T11:22:05.467Z"
   },
   {
    "duration": 26,
    "start_time": "2021-10-15T11:22:05.484Z"
   },
   {
    "duration": 61,
    "start_time": "2021-10-15T11:22:05.512Z"
   },
   {
    "duration": 5,
    "start_time": "2021-10-15T11:22:05.574Z"
   },
   {
    "duration": 7,
    "start_time": "2021-10-15T11:22:05.580Z"
   },
   {
    "duration": 6,
    "start_time": "2021-10-15T11:22:05.588Z"
   },
   {
    "duration": 88,
    "start_time": "2021-10-15T11:22:05.598Z"
   },
   {
    "duration": 298,
    "start_time": "2021-10-15T11:22:52.166Z"
   },
   {
    "duration": 8,
    "start_time": "2021-10-15T11:22:52.467Z"
   },
   {
    "duration": 7,
    "start_time": "2021-10-15T11:22:52.479Z"
   },
   {
    "duration": 7,
    "start_time": "2021-10-15T11:22:52.488Z"
   },
   {
    "duration": 5,
    "start_time": "2021-10-15T11:22:52.497Z"
   },
   {
    "duration": 8,
    "start_time": "2021-10-15T11:22:52.504Z"
   },
   {
    "duration": 10,
    "start_time": "2021-10-15T11:22:52.514Z"
   },
   {
    "duration": 42,
    "start_time": "2021-10-15T11:22:52.526Z"
   },
   {
    "duration": 6,
    "start_time": "2021-10-15T11:22:52.571Z"
   },
   {
    "duration": 18,
    "start_time": "2021-10-15T11:22:52.579Z"
   },
   {
    "duration": 9,
    "start_time": "2021-10-15T11:22:52.599Z"
   },
   {
    "duration": 18,
    "start_time": "2021-10-15T11:22:52.610Z"
   },
   {
    "duration": 33,
    "start_time": "2021-10-15T11:22:52.630Z"
   },
   {
    "duration": 6,
    "start_time": "2021-10-15T11:22:52.665Z"
   },
   {
    "duration": 24,
    "start_time": "2021-10-15T11:22:52.673Z"
   },
   {
    "duration": 25,
    "start_time": "2021-10-15T11:22:52.699Z"
   },
   {
    "duration": 14,
    "start_time": "2021-10-15T11:22:52.725Z"
   },
   {
    "duration": 31,
    "start_time": "2021-10-15T11:22:52.764Z"
   },
   {
    "duration": 23,
    "start_time": "2021-10-15T11:22:52.797Z"
   },
   {
    "duration": 6,
    "start_time": "2021-10-15T11:22:52.822Z"
   },
   {
    "duration": 51,
    "start_time": "2021-10-15T11:22:52.830Z"
   },
   {
    "duration": 8,
    "start_time": "2021-10-15T11:22:52.883Z"
   },
   {
    "duration": 91,
    "start_time": "2021-10-15T11:22:52.894Z"
   },
   {
    "duration": 162,
    "start_time": "2021-10-15T11:23:25.753Z"
   },
   {
    "duration": 5,
    "start_time": "2021-10-15T11:23:25.918Z"
   },
   {
    "duration": 8,
    "start_time": "2021-10-15T11:23:25.925Z"
   },
   {
    "duration": 7,
    "start_time": "2021-10-15T11:23:25.935Z"
   },
   {
    "duration": 6,
    "start_time": "2021-10-15T11:23:25.964Z"
   },
   {
    "duration": 7,
    "start_time": "2021-10-15T11:23:25.972Z"
   },
   {
    "duration": 10,
    "start_time": "2021-10-15T11:23:25.980Z"
   },
   {
    "duration": 6,
    "start_time": "2021-10-15T11:23:25.994Z"
   },
   {
    "duration": 7,
    "start_time": "2021-10-15T11:23:26.003Z"
   },
   {
    "duration": 71,
    "start_time": "2021-10-15T11:23:26.013Z"
   },
   {
    "duration": 7,
    "start_time": "2021-10-15T11:23:26.086Z"
   },
   {
    "duration": 14,
    "start_time": "2021-10-15T11:23:26.095Z"
   },
   {
    "duration": 7,
    "start_time": "2021-10-15T11:23:26.111Z"
   },
   {
    "duration": 13,
    "start_time": "2021-10-15T11:23:26.120Z"
   },
   {
    "duration": 31,
    "start_time": "2021-10-15T11:23:26.134Z"
   },
   {
    "duration": 23,
    "start_time": "2021-10-15T11:23:26.167Z"
   },
   {
    "duration": 15,
    "start_time": "2021-10-15T11:23:26.192Z"
   },
   {
    "duration": 25,
    "start_time": "2021-10-15T11:23:26.209Z"
   },
   {
    "duration": 47,
    "start_time": "2021-10-15T11:23:26.236Z"
   },
   {
    "duration": 7,
    "start_time": "2021-10-15T11:23:26.287Z"
   },
   {
    "duration": 7,
    "start_time": "2021-10-15T11:23:26.296Z"
   },
   {
    "duration": 8,
    "start_time": "2021-10-15T11:23:26.305Z"
   },
   {
    "duration": 84,
    "start_time": "2021-10-15T11:23:26.316Z"
   },
   {
    "duration": 235,
    "start_time": "2021-10-15T11:23:49.810Z"
   },
   {
    "duration": 7,
    "start_time": "2021-10-15T11:23:50.046Z"
   },
   {
    "duration": 9,
    "start_time": "2021-10-15T11:23:50.055Z"
   },
   {
    "duration": 9,
    "start_time": "2021-10-15T11:23:50.067Z"
   },
   {
    "duration": 11,
    "start_time": "2021-10-15T11:23:50.078Z"
   },
   {
    "duration": 11,
    "start_time": "2021-10-15T11:23:50.091Z"
   },
   {
    "duration": 12,
    "start_time": "2021-10-15T11:23:50.105Z"
   },
   {
    "duration": 6,
    "start_time": "2021-10-15T11:23:50.120Z"
   },
   {
    "duration": 8,
    "start_time": "2021-10-15T11:23:50.128Z"
   },
   {
    "duration": 23,
    "start_time": "2021-10-15T11:23:50.163Z"
   },
   {
    "duration": 9,
    "start_time": "2021-10-15T11:23:50.188Z"
   },
   {
    "duration": 17,
    "start_time": "2021-10-15T11:23:50.199Z"
   },
   {
    "duration": 12,
    "start_time": "2021-10-15T11:23:50.218Z"
   },
   {
    "duration": 12,
    "start_time": "2021-10-15T11:23:50.232Z"
   },
   {
    "duration": 41,
    "start_time": "2021-10-15T11:23:50.246Z"
   },
   {
    "duration": 38,
    "start_time": "2021-10-15T11:23:50.289Z"
   },
   {
    "duration": 34,
    "start_time": "2021-10-15T11:23:50.329Z"
   },
   {
    "duration": 26,
    "start_time": "2021-10-15T11:23:50.365Z"
   },
   {
    "duration": 27,
    "start_time": "2021-10-15T11:23:50.392Z"
   },
   {
    "duration": 11,
    "start_time": "2021-10-15T11:23:50.422Z"
   },
   {
    "duration": 33,
    "start_time": "2021-10-15T11:23:50.435Z"
   },
   {
    "duration": 9,
    "start_time": "2021-10-15T11:23:50.471Z"
   },
   {
    "duration": 170,
    "start_time": "2021-10-15T11:24:21.196Z"
   },
   {
    "duration": 8,
    "start_time": "2021-10-15T11:24:21.368Z"
   },
   {
    "duration": 7,
    "start_time": "2021-10-15T11:24:21.378Z"
   },
   {
    "duration": 9,
    "start_time": "2021-10-15T11:24:21.387Z"
   },
   {
    "duration": 7,
    "start_time": "2021-10-15T11:24:21.398Z"
   },
   {
    "duration": 8,
    "start_time": "2021-10-15T11:24:21.407Z"
   },
   {
    "duration": 10,
    "start_time": "2021-10-15T11:24:21.416Z"
   },
   {
    "duration": 37,
    "start_time": "2021-10-15T11:24:21.429Z"
   },
   {
    "duration": 9,
    "start_time": "2021-10-15T11:24:21.468Z"
   },
   {
    "duration": 21,
    "start_time": "2021-10-15T11:24:21.479Z"
   },
   {
    "duration": 9,
    "start_time": "2021-10-15T11:24:21.502Z"
   },
   {
    "duration": 14,
    "start_time": "2021-10-15T11:24:21.512Z"
   },
   {
    "duration": 8,
    "start_time": "2021-10-15T11:24:21.528Z"
   },
   {
    "duration": 29,
    "start_time": "2021-10-15T11:24:21.538Z"
   },
   {
    "duration": 23,
    "start_time": "2021-10-15T11:24:21.569Z"
   },
   {
    "duration": 25,
    "start_time": "2021-10-15T11:24:21.594Z"
   },
   {
    "duration": 15,
    "start_time": "2021-10-15T11:24:21.621Z"
   },
   {
    "duration": 46,
    "start_time": "2021-10-15T11:24:21.638Z"
   },
   {
    "duration": 21,
    "start_time": "2021-10-15T11:24:21.685Z"
   },
   {
    "duration": 7,
    "start_time": "2021-10-15T11:24:21.707Z"
   },
   {
    "duration": 8,
    "start_time": "2021-10-15T11:24:21.715Z"
   },
   {
    "duration": 43,
    "start_time": "2021-10-15T11:24:21.724Z"
   },
   {
    "duration": 166,
    "start_time": "2021-10-15T11:25:43.719Z"
   },
   {
    "duration": 7,
    "start_time": "2021-10-15T11:25:43.887Z"
   },
   {
    "duration": 18,
    "start_time": "2021-10-15T11:25:43.896Z"
   },
   {
    "duration": 10,
    "start_time": "2021-10-15T11:25:43.916Z"
   },
   {
    "duration": 12,
    "start_time": "2021-10-15T11:25:43.927Z"
   },
   {
    "duration": 15,
    "start_time": "2021-10-15T11:25:43.941Z"
   },
   {
    "duration": 16,
    "start_time": "2021-10-15T11:25:43.964Z"
   },
   {
    "duration": 12,
    "start_time": "2021-10-15T11:25:43.983Z"
   },
   {
    "duration": 14,
    "start_time": "2021-10-15T11:25:43.997Z"
   },
   {
    "duration": 28,
    "start_time": "2021-10-15T11:25:44.013Z"
   },
   {
    "duration": 22,
    "start_time": "2021-10-15T11:25:44.043Z"
   },
   {
    "duration": 17,
    "start_time": "2021-10-15T11:25:44.067Z"
   },
   {
    "duration": 22,
    "start_time": "2021-10-15T11:25:44.086Z"
   },
   {
    "duration": 18,
    "start_time": "2021-10-15T11:25:44.109Z"
   },
   {
    "duration": 37,
    "start_time": "2021-10-15T11:25:44.129Z"
   },
   {
    "duration": 43,
    "start_time": "2021-10-15T11:25:44.168Z"
   },
   {
    "duration": 15,
    "start_time": "2021-10-15T11:25:44.213Z"
   },
   {
    "duration": 27,
    "start_time": "2021-10-15T11:25:44.230Z"
   },
   {
    "duration": 22,
    "start_time": "2021-10-15T11:25:44.259Z"
   },
   {
    "duration": 17,
    "start_time": "2021-10-15T11:25:44.283Z"
   },
   {
    "duration": 9,
    "start_time": "2021-10-15T11:25:44.302Z"
   },
   {
    "duration": 9,
    "start_time": "2021-10-15T11:25:44.313Z"
   },
   {
    "duration": 12,
    "start_time": "2021-10-15T12:20:10.931Z"
   },
   {
    "duration": 30,
    "start_time": "2021-10-15T12:20:21.351Z"
   },
   {
    "duration": 15,
    "start_time": "2021-10-15T12:34:36.017Z"
   },
   {
    "duration": 101,
    "start_time": "2021-10-15T12:36:02.852Z"
   },
   {
    "duration": 13,
    "start_time": "2021-10-15T12:39:01.176Z"
   },
   {
    "duration": 15,
    "start_time": "2021-10-15T12:40:02.587Z"
   },
   {
    "duration": 15,
    "start_time": "2021-10-15T12:51:35.646Z"
   },
   {
    "duration": 14,
    "start_time": "2021-10-15T12:55:11.392Z"
   },
   {
    "duration": 16,
    "start_time": "2021-10-15T13:01:14.764Z"
   },
   {
    "duration": 935,
    "start_time": "2021-10-15T13:08:22.233Z"
   },
   {
    "duration": 5,
    "start_time": "2021-10-15T13:08:23.170Z"
   },
   {
    "duration": 7,
    "start_time": "2021-10-15T13:08:23.177Z"
   },
   {
    "duration": 6,
    "start_time": "2021-10-15T13:08:23.186Z"
   },
   {
    "duration": 5,
    "start_time": "2021-10-15T13:08:23.194Z"
   },
   {
    "duration": 10,
    "start_time": "2021-10-15T13:08:23.200Z"
   },
   {
    "duration": 17,
    "start_time": "2021-10-15T13:08:23.211Z"
   },
   {
    "duration": 33,
    "start_time": "2021-10-15T13:08:23.231Z"
   },
   {
    "duration": 8,
    "start_time": "2021-10-15T13:08:23.266Z"
   },
   {
    "duration": 24,
    "start_time": "2021-10-15T13:08:23.276Z"
   },
   {
    "duration": 6,
    "start_time": "2021-10-15T13:08:23.302Z"
   },
   {
    "duration": 13,
    "start_time": "2021-10-15T13:08:23.310Z"
   },
   {
    "duration": 7,
    "start_time": "2021-10-15T13:08:23.325Z"
   },
   {
    "duration": 11,
    "start_time": "2021-10-15T13:08:23.334Z"
   },
   {
    "duration": 33,
    "start_time": "2021-10-15T13:08:23.347Z"
   },
   {
    "duration": 20,
    "start_time": "2021-10-15T13:08:23.381Z"
   },
   {
    "duration": 14,
    "start_time": "2021-10-15T13:08:23.403Z"
   },
   {
    "duration": 48,
    "start_time": "2021-10-15T13:08:23.419Z"
   },
   {
    "duration": 20,
    "start_time": "2021-10-15T13:08:23.469Z"
   },
   {
    "duration": 7,
    "start_time": "2021-10-15T13:08:23.490Z"
   },
   {
    "duration": 6,
    "start_time": "2021-10-15T13:08:23.499Z"
   },
   {
    "duration": 9,
    "start_time": "2021-10-15T13:08:23.507Z"
   },
   {
    "duration": 45,
    "start_time": "2021-10-15T13:08:23.520Z"
   },
   {
    "duration": 21,
    "start_time": "2021-10-15T13:08:23.567Z"
   },
   {
    "duration": 15,
    "start_time": "2021-10-15T13:08:23.590Z"
   },
   {
    "duration": 15,
    "start_time": "2021-10-15T13:08:23.607Z"
   },
   {
    "duration": 48,
    "start_time": "2021-10-15T13:08:23.624Z"
   },
   {
    "duration": 291,
    "start_time": "2021-10-15T13:08:31.721Z"
   },
   {
    "duration": 6,
    "start_time": "2021-10-15T13:08:32.013Z"
   },
   {
    "duration": 19,
    "start_time": "2021-10-15T13:08:32.021Z"
   },
   {
    "duration": 9,
    "start_time": "2021-10-15T13:08:32.043Z"
   },
   {
    "duration": 30,
    "start_time": "2021-10-15T13:08:32.053Z"
   },
   {
    "duration": 18,
    "start_time": "2021-10-15T13:08:32.085Z"
   },
   {
    "duration": 15,
    "start_time": "2021-10-15T13:08:32.105Z"
   },
   {
    "duration": 24,
    "start_time": "2021-10-15T13:08:32.122Z"
   },
   {
    "duration": 19,
    "start_time": "2021-10-15T13:08:32.149Z"
   },
   {
    "duration": 38,
    "start_time": "2021-10-15T13:08:32.170Z"
   },
   {
    "duration": 21,
    "start_time": "2021-10-15T13:08:32.210Z"
   },
   {
    "duration": 23,
    "start_time": "2021-10-15T13:08:32.233Z"
   },
   {
    "duration": 18,
    "start_time": "2021-10-15T13:08:32.258Z"
   },
   {
    "duration": 20,
    "start_time": "2021-10-15T13:08:32.278Z"
   },
   {
    "duration": 38,
    "start_time": "2021-10-15T13:08:32.300Z"
   },
   {
    "duration": 35,
    "start_time": "2021-10-15T13:08:32.340Z"
   },
   {
    "duration": 26,
    "start_time": "2021-10-15T13:08:32.377Z"
   },
   {
    "duration": 35,
    "start_time": "2021-10-15T13:08:32.405Z"
   },
   {
    "duration": 21,
    "start_time": "2021-10-15T13:08:32.442Z"
   },
   {
    "duration": 31,
    "start_time": "2021-10-15T13:08:32.465Z"
   },
   {
    "duration": 24,
    "start_time": "2021-10-15T13:08:32.498Z"
   },
   {
    "duration": 12,
    "start_time": "2021-10-15T13:08:32.523Z"
   },
   {
    "duration": 25,
    "start_time": "2021-10-15T13:08:32.537Z"
   },
   {
    "duration": 41,
    "start_time": "2021-10-15T13:08:32.564Z"
   },
   {
    "duration": 36,
    "start_time": "2021-10-15T13:08:32.607Z"
   },
   {
    "duration": 14,
    "start_time": "2021-10-15T13:08:32.645Z"
   },
   {
    "duration": 17,
    "start_time": "2021-10-15T13:08:32.662Z"
   },
   {
    "duration": 804,
    "start_time": "2021-10-15T15:56:10.157Z"
   },
   {
    "duration": 6,
    "start_time": "2021-10-15T15:56:10.963Z"
   },
   {
    "duration": 13,
    "start_time": "2021-10-15T15:56:10.970Z"
   },
   {
    "duration": 9,
    "start_time": "2021-10-15T15:56:10.984Z"
   },
   {
    "duration": 10,
    "start_time": "2021-10-15T15:56:10.994Z"
   },
   {
    "duration": 6,
    "start_time": "2021-10-15T15:56:11.005Z"
   },
   {
    "duration": 9,
    "start_time": "2021-10-15T15:56:11.013Z"
   },
   {
    "duration": 22,
    "start_time": "2021-10-15T15:56:11.024Z"
   },
   {
    "duration": 9,
    "start_time": "2021-10-15T15:56:11.048Z"
   },
   {
    "duration": 31,
    "start_time": "2021-10-15T15:56:11.059Z"
   },
   {
    "duration": 12,
    "start_time": "2021-10-15T15:56:11.092Z"
   },
   {
    "duration": 18,
    "start_time": "2021-10-15T15:56:11.106Z"
   },
   {
    "duration": 8,
    "start_time": "2021-10-15T15:56:11.126Z"
   },
   {
    "duration": 6,
    "start_time": "2021-10-15T15:56:11.135Z"
   },
   {
    "duration": 22,
    "start_time": "2021-10-15T15:56:11.143Z"
   },
   {
    "duration": 17,
    "start_time": "2021-10-15T15:56:11.166Z"
   },
   {
    "duration": 12,
    "start_time": "2021-10-15T15:56:11.185Z"
   },
   {
    "duration": 22,
    "start_time": "2021-10-15T15:56:11.198Z"
   },
   {
    "duration": 35,
    "start_time": "2021-10-15T15:56:11.221Z"
   },
   {
    "duration": 7,
    "start_time": "2021-10-15T15:56:11.258Z"
   },
   {
    "duration": 12,
    "start_time": "2021-10-15T15:56:11.266Z"
   },
   {
    "duration": 8,
    "start_time": "2021-10-15T15:56:11.280Z"
   },
   {
    "duration": 16,
    "start_time": "2021-10-15T15:56:11.291Z"
   },
   {
    "duration": 15,
    "start_time": "2021-10-15T15:56:11.308Z"
   },
   {
    "duration": 31,
    "start_time": "2021-10-15T15:56:11.324Z"
   },
   {
    "duration": 14,
    "start_time": "2021-10-15T15:56:11.356Z"
   },
   {
    "duration": 14,
    "start_time": "2021-10-15T15:56:11.371Z"
   }
  ],
  "kernelspec": {
   "display_name": "Python 3",
   "language": "python",
   "name": "python3"
  },
  "language_info": {
   "codemirror_mode": {
    "name": "ipython",
    "version": 3
   },
   "file_extension": ".py",
   "mimetype": "text/x-python",
   "name": "python",
   "nbconvert_exporter": "python",
   "pygments_lexer": "ipython3",
   "version": "3.8.8"
  },
  "toc": {
   "base_numbering": 1,
   "nav_menu": {},
   "number_sections": true,
   "sideBar": true,
   "skip_h1_title": true,
   "title_cell": "Table of Contents",
   "title_sidebar": "Contents",
   "toc_cell": false,
   "toc_position": {},
   "toc_section_display": true,
   "toc_window_display": true
  }
 },
 "nbformat": 4,
 "nbformat_minor": 2
}
